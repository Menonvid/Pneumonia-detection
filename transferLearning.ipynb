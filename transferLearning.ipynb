{
 "cells": [
  {
   "cell_type": "markdown",
   "metadata": {
    "colab_type": "text",
    "id": "0FM06X-lelwR"
   },
   "source": [
    "# Using Pretrained Networks - VGG19 to improve model\n",
    "\n",
    "__objective:__ Use Keras to implement feature engineering and fine tuning on a pre-trained model "
   ]
  },
  {
   "cell_type": "code",
   "execution_count": 1,
   "metadata": {
    "colab": {
     "base_uri": "https://localhost:8080/",
     "height": 121
    },
    "colab_type": "code",
    "executionInfo": {
     "elapsed": 19834,
     "status": "ok",
     "timestamp": 1593408941755,
     "user": {
      "displayName": "chamila dharmawardhana",
      "photoUrl": "https://lh3.googleusercontent.com/a-/AOh14GiMQL71je5gYAe__JMO5G3ZCfpatswl8ZaS0hraFw=s64",
      "userId": "10886394829232968298"
     },
     "user_tz": 300
    },
    "id": "Bq6naEspe0kc",
    "outputId": "b0625251-fdc7-4f05-b828-749b9355df38"
   },
   "outputs": [],
   "source": [
    "# from google.colab import drive\n",
    "# drive.mount('/content/gdrive')"
   ]
  },
  {
   "cell_type": "code",
   "execution_count": 2,
   "metadata": {
    "colab": {
     "base_uri": "https://localhost:8080/",
     "height": 34
    },
    "colab_type": "code",
    "executionInfo": {
     "elapsed": 2201,
     "status": "ok",
     "timestamp": 1593408952115,
     "user": {
      "displayName": "chamila dharmawardhana",
      "photoUrl": "https://lh3.googleusercontent.com/a-/AOh14GiMQL71je5gYAe__JMO5G3ZCfpatswl8ZaS0hraFw=s64",
      "userId": "10886394829232968298"
     },
     "user_tz": 300
    },
    "id": "MBh7hYzbfSo2",
    "outputId": "9f37b10e-612c-4f99-f101-bff76552f7c1"
   },
   "outputs": [],
   "source": [
    "# import os \n",
    "# print(os.listdir(\"/content/gdrive/My Drive/Flatiron_school/Flatiron_MOD_4/Convolutional_Neural_Networks/dsc-building-a-cnn-from-scratch-onl01-dtsc-ft-030220/chest_xray_downsampled\"))"
   ]
  },
  {
   "cell_type": "code",
   "execution_count": 3,
   "metadata": {
    "colab": {},
    "colab_type": "code",
    "executionInfo": {
     "elapsed": 176,
     "status": "ok",
     "timestamp": 1593408957984,
     "user": {
      "displayName": "chamila dharmawardhana",
      "photoUrl": "https://lh3.googleusercontent.com/a-/AOh14GiMQL71je5gYAe__JMO5G3ZCfpatswl8ZaS0hraFw=s64",
      "userId": "10886394829232968298"
     },
     "user_tz": 300
    },
    "id": "Ft57m1_2elwS"
   },
   "outputs": [],
   "source": [
    "# import datetime\n",
    "\n",
    "# start = datetime.datetime.now()"
   ]
  },
  {
   "cell_type": "code",
   "execution_count": 4,
   "metadata": {
    "colab": {},
    "colab_type": "code",
    "executionInfo": {
     "elapsed": 261,
     "status": "ok",
     "timestamp": 1593408960459,
     "user": {
      "displayName": "chamila dharmawardhana",
      "photoUrl": "https://lh3.googleusercontent.com/a-/AOh14GiMQL71je5gYAe__JMO5G3ZCfpatswl8ZaS0hraFw=s64",
      "userId": "10886394829232968298"
     },
     "user_tz": 300
    },
    "id": "BGfmIwSFelwW"
   },
   "outputs": [
    {
     "name": "stderr",
     "output_type": "stream",
     "text": [
      "Using TensorFlow backend.\n"
     ]
    }
   ],
   "source": [
    "import os, shutil\n",
    "import time\n",
    "import matplotlib.pyplot as plt\n",
    "%matplotlib inline\n",
    "import scipy\n",
    "import numpy as np\n",
    "from PIL import Image\n",
    "from scipy import ndimage\n",
    "from keras.preprocessing.image import ImageDataGenerator, array_to_img\n",
    "\n",
    "np.random.seed(123)"
   ]
  },
  {
   "cell_type": "code",
   "execution_count": 5,
   "metadata": {
    "colab": {},
    "colab_type": "code",
    "executionInfo": {
     "elapsed": 159,
     "status": "ok",
     "timestamp": 1593408962575,
     "user": {
      "displayName": "chamila dharmawardhana",
      "photoUrl": "https://lh3.googleusercontent.com/a-/AOh14GiMQL71je5gYAe__JMO5G3ZCfpatswl8ZaS0hraFw=s64",
      "userId": "10886394829232968298"
     },
     "user_tz": 300
    },
    "id": "HQC-8RkqelwZ"
   },
   "outputs": [],
   "source": [
    "# select when running google colab\n",
    "# train_folder = '/content/gdrive/My Drive/Flatiron_school/Flatiron_MOD_4/Convolutional_Neural_Networks/dsc-building-a-cnn-from-scratch-onl01-dtsc-ft-030220/chest_xray_downsampled/train'\n",
    "# test_folder = '/content/gdrive/My Drive/Flatiron_school/Flatiron_MOD_4/Convolutional_Neural_Networks/dsc-building-a-cnn-from-scratch-onl01-dtsc-ft-030220/chest_xray_downsampled/test'\n",
    "# val_folder = '/content/gdrive/My Drive/Flatiron_school/Flatiron_MOD_4/Convolutional_Neural_Networks/dsc-building-a-cnn-from-scratch-onl01-dtsc-ft-030220/chest_xray_downsampled/val'\n",
    "\n",
    "# select when running local machine\n",
    "train_folder = 'data/train'\n",
    "test_folder = 'data/test'\n",
    "val_folder = 'data/val'"
   ]
  },
  {
   "cell_type": "code",
   "execution_count": 6,
   "metadata": {
    "colab": {},
    "colab_type": "code",
    "executionInfo": {
     "elapsed": 254,
     "status": "ok",
     "timestamp": 1593408964141,
     "user": {
      "displayName": "chamila dharmawardhana",
      "photoUrl": "https://lh3.googleusercontent.com/a-/AOh14GiMQL71je5gYAe__JMO5G3ZCfpatswl8ZaS0hraFw=s64",
      "userId": "10886394829232968298"
     },
     "user_tz": 300
    },
    "id": "zKtn0cCdelwb"
   },
   "outputs": [],
   "source": [
    "datagen = ImageDataGenerator(rescale=1./255) \n",
    "batch_size = 10"
   ]
  },
  {
   "cell_type": "markdown",
   "metadata": {
    "colab_type": "text",
    "id": "epijZKZvelwd"
   },
   "source": [
    "## VGG19: Feature extraction"
   ]
  },
  {
   "cell_type": "code",
   "execution_count": 7,
   "metadata": {
    "colab": {},
    "colab_type": "code",
    "executionInfo": {
     "elapsed": 620,
     "status": "ok",
     "timestamp": 1593409063452,
     "user": {
      "displayName": "chamila dharmawardhana",
      "photoUrl": "https://lh3.googleusercontent.com/a-/AOh14GiMQL71je5gYAe__JMO5G3ZCfpatswl8ZaS0hraFw=s64",
      "userId": "10886394829232968298"
     },
     "user_tz": 300
    },
    "id": "9pqCW7umelwe"
   },
   "outputs": [],
   "source": [
    "from keras.applications import VGG19\n",
    "cnn_base = VGG19(weights='imagenet', \n",
    "                 include_top=False, \n",
    "                 input_shape=(150, 150, 3))"
   ]
  },
  {
   "cell_type": "code",
   "execution_count": 8,
   "metadata": {
    "colab": {
     "base_uri": "https://localhost:8080/",
     "height": 890
    },
    "colab_type": "code",
    "executionInfo": {
     "elapsed": 195,
     "status": "ok",
     "timestamp": 1593409065633,
     "user": {
      "displayName": "chamila dharmawardhana",
      "photoUrl": "https://lh3.googleusercontent.com/a-/AOh14GiMQL71je5gYAe__JMO5G3ZCfpatswl8ZaS0hraFw=s64",
      "userId": "10886394829232968298"
     },
     "user_tz": 300
    },
    "id": "HpuYbedGelwg",
    "outputId": "3656f34e-840a-416a-fa14-1656950bae7e"
   },
   "outputs": [
    {
     "name": "stdout",
     "output_type": "stream",
     "text": [
      "_________________________________________________________________\n",
      "Layer (type)                 Output Shape              Param #   \n",
      "=================================================================\n",
      "input_1 (InputLayer)         (None, 150, 150, 3)       0         \n",
      "_________________________________________________________________\n",
      "block1_conv1 (Conv2D)        (None, 150, 150, 64)      1792      \n",
      "_________________________________________________________________\n",
      "block1_conv2 (Conv2D)        (None, 150, 150, 64)      36928     \n",
      "_________________________________________________________________\n",
      "block1_pool (MaxPooling2D)   (None, 75, 75, 64)        0         \n",
      "_________________________________________________________________\n",
      "block2_conv1 (Conv2D)        (None, 75, 75, 128)       73856     \n",
      "_________________________________________________________________\n",
      "block2_conv2 (Conv2D)        (None, 75, 75, 128)       147584    \n",
      "_________________________________________________________________\n",
      "block2_pool (MaxPooling2D)   (None, 37, 37, 128)       0         \n",
      "_________________________________________________________________\n",
      "block3_conv1 (Conv2D)        (None, 37, 37, 256)       295168    \n",
      "_________________________________________________________________\n",
      "block3_conv2 (Conv2D)        (None, 37, 37, 256)       590080    \n",
      "_________________________________________________________________\n",
      "block3_conv3 (Conv2D)        (None, 37, 37, 256)       590080    \n",
      "_________________________________________________________________\n",
      "block3_conv4 (Conv2D)        (None, 37, 37, 256)       590080    \n",
      "_________________________________________________________________\n",
      "block3_pool (MaxPooling2D)   (None, 18, 18, 256)       0         \n",
      "_________________________________________________________________\n",
      "block4_conv1 (Conv2D)        (None, 18, 18, 512)       1180160   \n",
      "_________________________________________________________________\n",
      "block4_conv2 (Conv2D)        (None, 18, 18, 512)       2359808   \n",
      "_________________________________________________________________\n",
      "block4_conv3 (Conv2D)        (None, 18, 18, 512)       2359808   \n",
      "_________________________________________________________________\n",
      "block4_conv4 (Conv2D)        (None, 18, 18, 512)       2359808   \n",
      "_________________________________________________________________\n",
      "block4_pool (MaxPooling2D)   (None, 9, 9, 512)         0         \n",
      "_________________________________________________________________\n",
      "block5_conv1 (Conv2D)        (None, 9, 9, 512)         2359808   \n",
      "_________________________________________________________________\n",
      "block5_conv2 (Conv2D)        (None, 9, 9, 512)         2359808   \n",
      "_________________________________________________________________\n",
      "block5_conv3 (Conv2D)        (None, 9, 9, 512)         2359808   \n",
      "_________________________________________________________________\n",
      "block5_conv4 (Conv2D)        (None, 9, 9, 512)         2359808   \n",
      "_________________________________________________________________\n",
      "block5_pool (MaxPooling2D)   (None, 4, 4, 512)         0         \n",
      "=================================================================\n",
      "Total params: 20,024,384\n",
      "Trainable params: 20,024,384\n",
      "Non-trainable params: 0\n",
      "_________________________________________________________________\n"
     ]
    }
   ],
   "source": [
    "cnn_base.summary()"
   ]
  },
  {
   "cell_type": "code",
   "execution_count": 9,
   "metadata": {
    "colab": {},
    "colab_type": "code",
    "executionInfo": {
     "elapsed": 173,
     "status": "ok",
     "timestamp": 1593409070933,
     "user": {
      "displayName": "chamila dharmawardhana",
      "photoUrl": "https://lh3.googleusercontent.com/a-/AOh14GiMQL71je5gYAe__JMO5G3ZCfpatswl8ZaS0hraFw=s64",
      "userId": "10886394829232968298"
     },
     "user_tz": 300
    },
    "id": "P12Qe9I8elwi"
   },
   "outputs": [],
   "source": [
    "def extract_features(directory, sample_amount):\n",
    "    features = np.zeros(shape=(sample_amount, 4, 4, 512)) \n",
    "    labels = np.zeros(shape=(sample_amount))\n",
    "    generator = datagen.flow_from_directory(\n",
    "        directory, target_size=(150, 150), \n",
    "        batch_size = 10, \n",
    "        class_mode='binary')\n",
    "    i=0\n",
    "    for inputs_batch, labels_batch in generator:\n",
    "        features_batch = cnn_base.predict(inputs_batch)\n",
    "        features[i * batch_size : (i + 1) * batch_size] = features_batch \n",
    "        labels[i * batch_size : (i + 1) * batch_size] = labels_batch\n",
    "        i = i + 1\n",
    "        if i * batch_size >= sample_amount:\n",
    "            break\n",
    "    return features, labels"
   ]
  },
  {
   "cell_type": "code",
   "execution_count": 10,
   "metadata": {
    "colab": {
     "base_uri": "https://localhost:8080/",
     "height": 34
    },
    "colab_type": "code",
    "id": "xp8Shv6celwl",
    "outputId": "4216708e-c4f9-4088-9154-d7e09a65d9f4"
   },
   "outputs": [
    {
     "name": "stdout",
     "output_type": "stream",
     "text": [
      "Found 5216 images belonging to 2 classes.\n",
      "Found 16 images belonging to 2 classes.\n",
      "Found 824 images belonging to 2 classes.\n"
     ]
    }
   ],
   "source": [
    "# You should be able to divide sample_amount by batch_size\n",
    "ntrain=5216\n",
    "nval=16\n",
    "ntest=824\n",
    "train_features, train_labels = extract_features(train_folder, ntrain) \n",
    "validation_features, validation_labels = extract_features(val_folder, nval) \n",
    "test_features, test_labels = extract_features(test_folder, ntest)\n",
    "\n",
    "train_features = np.reshape(train_features, (ntrain, 4 * 4 * 512))\n",
    "validation_features = np.reshape(validation_features, (nval, 4 * 4 * 512))\n",
    "test_features = np.reshape(test_features, (ntest, 4 * 4 * 512))"
   ]
  },
  {
   "cell_type": "code",
   "execution_count": 11,
   "metadata": {
    "colab": {
     "base_uri": "https://localhost:8080/",
     "height": 403
    },
    "colab_type": "code",
    "executionInfo": {
     "elapsed": 14443,
     "status": "ok",
     "timestamp": 1593408401678,
     "user": {
      "displayName": "chamila dharmawardhana",
      "photoUrl": "https://lh3.googleusercontent.com/a-/AOh14GiMQL71je5gYAe__JMO5G3ZCfpatswl8ZaS0hraFw=s64",
      "userId": "10886394829232968298"
     },
     "user_tz": 300
    },
    "id": "YhHTSwJJelwo",
    "outputId": "68e261f5-ece5-4a0d-b280-6b9ff5d57baa"
   },
   "outputs": [
    {
     "name": "stdout",
     "output_type": "stream",
     "text": [
      "Train on 5216 samples, validate on 16 samples\n",
      "Epoch 1/11\n",
      "5216/5216 [==============================] - 10s 2ms/step - loss: 0.1624 - acc: 0.9337 - val_loss: 0.1581 - val_acc: 0.9375\n",
      "Epoch 2/11\n",
      "5216/5216 [==============================] - 10s 2ms/step - loss: 0.0932 - acc: 0.9640 - val_loss: 0.4144 - val_acc: 0.8125\n",
      "Epoch 3/11\n",
      "5216/5216 [==============================] - 10s 2ms/step - loss: 0.0753 - acc: 0.9684 - val_loss: 1.0825 - val_acc: 0.7500\n",
      "Epoch 4/11\n",
      "5216/5216 [==============================] - 10s 2ms/step - loss: 0.0694 - acc: 0.9711 - val_loss: 0.0865 - val_acc: 0.9375\n",
      "Epoch 5/11\n",
      "5216/5216 [==============================] - 10s 2ms/step - loss: 0.0604 - acc: 0.9785 - val_loss: 0.2515 - val_acc: 0.9375\n",
      "Epoch 6/11\n",
      "5216/5216 [==============================] - 10s 2ms/step - loss: 0.0531 - acc: 0.9824 - val_loss: 0.2446 - val_acc: 0.8750\n",
      "Epoch 7/11\n",
      "5216/5216 [==============================] - 10s 2ms/step - loss: 0.0513 - acc: 0.9827 - val_loss: 0.3040 - val_acc: 0.8750\n",
      "Epoch 8/11\n",
      "5216/5216 [==============================] - 10s 2ms/step - loss: 0.0404 - acc: 0.9833 - val_loss: 0.0818 - val_acc: 0.9375\n",
      "Epoch 9/11\n",
      "5216/5216 [==============================] - 10s 2ms/step - loss: 0.0394 - acc: 0.9850 - val_loss: 0.1558 - val_acc: 0.9375\n",
      "Epoch 10/11\n",
      "5216/5216 [==============================] - 10s 2ms/step - loss: 0.0389 - acc: 0.9839 - val_loss: 0.0503 - val_acc: 1.0000\n",
      "Epoch 11/11\n",
      "5216/5216 [==============================] - 10s 2ms/step - loss: 0.0354 - acc: 0.9866 - val_loss: 2.1278 - val_acc: 0.5000\n"
     ]
    }
   ],
   "source": [
    "from keras import models\n",
    "from keras import layers\n",
    "from keras import optimizers\n",
    "\n",
    "model = models.Sequential()\n",
    "model.add(layers.Dense(256, activation='relu', input_dim=4*4*512))\n",
    "model.add(layers.Dense(1, activation='sigmoid'))\n",
    "\n",
    "model.compile(optimizer=optimizers.RMSprop(lr=1e-4),\n",
    "              loss='binary_crossentropy',\n",
    "              metrics=['acc'])\n",
    "\n",
    "history = model.fit(train_features, train_labels,\n",
    "                    epochs=11,\n",
    "                    batch_size=10,\n",
    "                    validation_data=(validation_features, validation_labels))"
   ]
  },
  {
   "cell_type": "code",
   "execution_count": 12,
   "metadata": {
    "colab": {
     "base_uri": "https://localhost:8080/",
     "height": 50
    },
    "colab_type": "code",
    "executionInfo": {
     "elapsed": 366,
     "status": "ok",
     "timestamp": 1593408405428,
     "user": {
      "displayName": "chamila dharmawardhana",
      "photoUrl": "https://lh3.googleusercontent.com/a-/AOh14GiMQL71je5gYAe__JMO5G3ZCfpatswl8ZaS0hraFw=s64",
      "userId": "10886394829232968298"
     },
     "user_tz": 300
    },
    "id": "NM69Gon8elwq",
    "outputId": "6bba2bbb-db2c-46c3-eb63-c580e1338576"
   },
   "outputs": [
    {
     "name": "stdout",
     "output_type": "stream",
     "text": [
      "824/824 [==============================] - 0s 132us/step\n"
     ]
    },
    {
     "data": {
      "text/plain": [
       "[2.3544136308929295, 0.6917475733942199]"
      ]
     },
     "execution_count": 12,
     "metadata": {},
     "output_type": "execute_result"
    }
   ],
   "source": [
    "results_test = model.evaluate(test_features, test_labels)\n",
    "results_test"
   ]
  },
  {
   "cell_type": "code",
   "execution_count": 13,
   "metadata": {
    "colab": {
     "base_uri": "https://localhost:8080/",
     "height": 545
    },
    "colab_type": "code",
    "executionInfo": {
     "elapsed": 647,
     "status": "ok",
     "timestamp": 1593408409449,
     "user": {
      "displayName": "chamila dharmawardhana",
      "photoUrl": "https://lh3.googleusercontent.com/a-/AOh14GiMQL71je5gYAe__JMO5G3ZCfpatswl8ZaS0hraFw=s64",
      "userId": "10886394829232968298"
     },
     "user_tz": 300
    },
    "id": "xzx8DPooelws",
    "outputId": "988f6349-440b-43f7-d9bc-f844f671717c"
   },
   "outputs": [
    {
     "data": {
      "image/png": "[encoded data removed]",
      "text/plain": [
       "<Figure size 432x288 with 1 Axes>"
      ]
     },
     "metadata": {
      "needs_background": "light"
     },
     "output_type": "display_data"
    },
    {
     "data": {
      "image/png": "[encoded data removed]",
      "text/plain": [
       "<Figure size 432x288 with 1 Axes>"
      ]
     },
     "metadata": {
      "needs_background": "light"
     },
     "output_type": "display_data"
    }
   ],
   "source": [
    "train_acc = history.history['acc']\n",
    "val_acc = history.history['val_acc']\n",
    "train_loss = history.history['loss']\n",
    "val_loss = history.history['val_loss']\n",
    "epch = range(1, len(train_acc) + 1)\n",
    "plt.plot(epch, train_acc, 'g.', label='Training Accuracy')\n",
    "plt.plot(epch, val_acc, 'g', label='Validation acc')\n",
    "plt.title('Accuracy')\n",
    "plt.legend()\n",
    "plt.figure()\n",
    "plt.plot(epch, train_loss, 'r.', label='Training loss')\n",
    "plt.plot(epch, val_loss, 'r', label='Validation loss')\n",
    "plt.title('Loss')\n",
    "plt.legend()\n",
    "plt.show()"
   ]
  },
  {
   "cell_type": "markdown",
   "metadata": {
    "colab_type": "text",
    "id": "e3Eb77iqelwv"
   },
   "source": [
    "Using VGG-19 you're able to get test set performance up to almost 69%. not really impressive!"
   ]
  },
  {
   "cell_type": "markdown",
   "metadata": {
    "colab_type": "text",
    "id": "BBuwD7bvelwx"
   },
   "source": [
    "## Adding further dense layers\n",
    "\n",
    "overview of the process:\n",
    "* Add the pretrained model as the first layer\n",
    "* Add some dense layers for a classifier on top\n",
    "* Freeze the convolutional base (all of the weights associated with base layer(s) will remain unchanged through the optimization process)\n",
    "* Train the model\n",
    "\n",
    "__Freezing the base is important as you wish to preserve the features encoded in this CNN base. Without this, the volatile gradients will quickly erase the useful features of the pretrained model.__"
   ]
  },
  {
   "cell_type": "code",
   "execution_count": 15,
   "metadata": {
    "colab": {},
    "colab_type": "code",
    "executionInfo": {
     "elapsed": 224,
     "status": "ok",
     "timestamp": 1593408422751,
     "user": {
      "displayName": "chamila dharmawardhana",
      "photoUrl": "https://lh3.googleusercontent.com/a-/AOh14GiMQL71je5gYAe__JMO5G3ZCfpatswl8ZaS0hraFw=s64",
      "userId": "10886394829232968298"
     },
     "user_tz": 300
    },
    "id": "jI6hJd95elwy"
   },
   "outputs": [],
   "source": [
    "model = models.Sequential()\n",
    "model.add(cnn_base)\n",
    "# model.add(layers.Flatten())\n",
    "# model.add(layers.Dense(132, activation='relu'))\n",
    "# model.add(layers.Dense(1, activation='sigmoid'))\n",
    "\n",
    "model.add(layers.Flatten())\n",
    "model.add(layers.Dense(512, activation='relu'))\n",
    "model.add(layers.Dropout(0.7))\n",
    "model.add(layers.Dense(128, activation='relu'))\n",
    "model.add(layers.Dropout(0.5))\n",
    "model.add(layers.Dense(64, activation='relu'))\n",
    "model.add(layers.Dropout(0.3))\n",
    "model.add(layers.Dense(1, activation='sigmoid'))"
   ]
  },
  {
   "cell_type": "markdown",
   "metadata": {
    "colab_type": "text",
    "id": "G4L9tNbvelw0"
   },
   "source": [
    "## Freezing\n",
    "\n",
    "Now that you've designed the model architecture, you'll freeze the base. With this, learning to check whether layers are frozen or not is a valuable skill."
   ]
  },
  {
   "cell_type": "code",
   "execution_count": 16,
   "metadata": {
    "colab": {
     "base_uri": "https://localhost:8080/",
     "height": 101
    },
    "colab_type": "code",
    "executionInfo": {
     "elapsed": 255,
     "status": "ok",
     "timestamp": 1593408429367,
     "user": {
      "displayName": "chamila dharmawardhana",
      "photoUrl": "https://lh3.googleusercontent.com/a-/AOh14GiMQL71je5gYAe__JMO5G3ZCfpatswl8ZaS0hraFw=s64",
      "userId": "10886394829232968298"
     },
     "user_tz": 300
    },
    "id": "YMC_LX-qelw1",
    "outputId": "7dda9e31-6025-4364-cd81-db65a3606338"
   },
   "outputs": [
    {
     "name": "stdout",
     "output_type": "stream",
     "text": [
      "vgg19 True\n",
      "flatten_1 True\n",
      "dense_3 True\n",
      "dropout_1 True\n",
      "dense_4 True\n",
      "dropout_2 True\n",
      "dense_5 True\n",
      "dropout_3 True\n",
      "dense_6 True\n",
      "40\n"
     ]
    }
   ],
   "source": [
    "# You can check whether a layer is trainable (or alter its setting) through the layer.trainable attribute\n",
    "for layer in model.layers:\n",
    "    print(layer.name, layer.trainable)\n",
    "    \n",
    "# Similarly, you can check how many trainable weights are in the model\n",
    "print(len(model.trainable_weights))"
   ]
  },
  {
   "cell_type": "markdown",
   "metadata": {
    "colab_type": "text",
    "id": "nyhbXIAlelw3"
   },
   "source": [
    "Freezing a layer is very straightforward: set the `trainable` attribute to False."
   ]
  },
  {
   "cell_type": "code",
   "execution_count": 17,
   "metadata": {
    "colab": {},
    "colab_type": "code",
    "executionInfo": {
     "elapsed": 272,
     "status": "ok",
     "timestamp": 1593408435607,
     "user": {
      "displayName": "chamila dharmawardhana",
      "photoUrl": "https://lh3.googleusercontent.com/a-/AOh14GiMQL71je5gYAe__JMO5G3ZCfpatswl8ZaS0hraFw=s64",
      "userId": "10886394829232968298"
     },
     "user_tz": 300
    },
    "id": "aHYsoaGmelw4"
   },
   "outputs": [],
   "source": [
    "cnn_base.trainable = False"
   ]
  },
  {
   "cell_type": "markdown",
   "metadata": {
    "colab_type": "text",
    "id": "o9AGKNL3elw6"
   },
   "source": [
    "A quick sanity check is also prudent and verifies that the base model is indeed frozen:"
   ]
  },
  {
   "cell_type": "code",
   "execution_count": 18,
   "metadata": {
    "colab": {
     "base_uri": "https://localhost:8080/",
     "height": 101
    },
    "colab_type": "code",
    "executionInfo": {
     "elapsed": 281,
     "status": "ok",
     "timestamp": 1593408438504,
     "user": {
      "displayName": "chamila dharmawardhana",
      "photoUrl": "https://lh3.googleusercontent.com/a-/AOh14GiMQL71je5gYAe__JMO5G3ZCfpatswl8ZaS0hraFw=s64",
      "userId": "10886394829232968298"
     },
     "user_tz": 300
    },
    "id": "f3F-S0atelw6",
    "outputId": "92c7bb0e-c6e2-431a-8cdf-7084ae3db93d"
   },
   "outputs": [
    {
     "name": "stdout",
     "output_type": "stream",
     "text": [
      "vgg19 False\n",
      "flatten_1 True\n",
      "dense_3 True\n",
      "dropout_1 True\n",
      "dense_4 True\n",
      "dropout_2 True\n",
      "dense_5 True\n",
      "dropout_3 True\n",
      "dense_6 True\n",
      "8\n"
     ]
    }
   ],
   "source": [
    "# You can check whether a layer is trainable (or alter its setting) through the layer.trainable attribute\n",
    "for layer in model.layers:\n",
    "    print(layer.name, layer.trainable)\n",
    "    \n",
    "# Similarly, we can check how many trainable weights are in the model\n",
    "print(len(model.trainable_weights))"
   ]
  },
  {
   "cell_type": "markdown",
   "metadata": {
    "colab_type": "text",
    "id": "SCHS1r0gelw9"
   },
   "source": [
    "## data augmentation\n",
    "\n",
    "Define the training-validation-test sets (now with data augmentation)."
   ]
  },
  {
   "cell_type": "code",
   "execution_count": 19,
   "metadata": {
    "colab": {
     "base_uri": "https://localhost:8080/",
     "height": 67
    },
    "colab_type": "code",
    "executionInfo": {
     "elapsed": 2768,
     "status": "ok",
     "timestamp": 1593408447153,
     "user": {
      "displayName": "chamila dharmawardhana",
      "photoUrl": "https://lh3.googleusercontent.com/a-/AOh14GiMQL71je5gYAe__JMO5G3ZCfpatswl8ZaS0hraFw=s64",
      "userId": "10886394829232968298"
     },
     "user_tz": 300
    },
    "id": "8KEUczHlelw9",
    "outputId": "ce18df0c-a4d5-45a7-f83f-b384d08e1e30"
   },
   "outputs": [
    {
     "name": "stdout",
     "output_type": "stream",
     "text": [
      "Found 5216 images belonging to 2 classes.\n",
      "Found 16 images belonging to 2 classes.\n",
      "Found 824 images belonging to 2 classes.\n"
     ]
    }
   ],
   "source": [
    "# Get all the data in the directory split/train (5216 images), and reshape them\n",
    "train_datagen = ImageDataGenerator(rescale=1./255, \n",
    "                                   rotation_range=40, \n",
    "                                   width_shift_range=0.2, \n",
    "                                   height_shift_range=0.2, \n",
    "                                   shear_range=0.2, \n",
    "                                   zoom_range=0.2, \n",
    "                                   horizontal_flip=True, \n",
    "                                   fill_mode='nearest')\n",
    "\n",
    "train_generator = train_datagen.flow_from_directory(train_folder,  \n",
    "                                                    target_size=(150, 150),  \n",
    "                                                    batch_size= 20, \n",
    "                                                    class_mode= 'binary') \n",
    "\n",
    "# Get all the data in the directory split/validation (16 images), and reshape them\n",
    "val_generator = ImageDataGenerator(rescale=1./255).flow_from_directory(val_folder,  \n",
    "                                                                       target_size=(150, 150),  \n",
    "                                                                       batch_size=20, \n",
    "                                                                       class_mode='binary')\n",
    "\n",
    "# Get all the data in the directory split/test (824 images), and reshape them\n",
    "test_generator = ImageDataGenerator(rescale=1./255).flow_from_directory(test_folder,  \n",
    "                                                                        target_size=(150, 150), \n",
    "                                                                        batch_size=824,\n",
    "                                                                        class_mode='binary')\n",
    "\n",
    "test_images, test_labels = next(test_generator)"
   ]
  },
  {
   "cell_type": "markdown",
   "metadata": {
    "colab_type": "text",
    "id": "fhYDW1UxelxA"
   },
   "source": [
    "__Now let's Compile And fit the model__"
   ]
  },
  {
   "cell_type": "code",
   "execution_count": 20,
   "metadata": {
    "colab": {},
    "colab_type": "code",
    "executionInfo": {
     "elapsed": 272,
     "status": "ok",
     "timestamp": 1593408449984,
     "user": {
      "displayName": "chamila dharmawardhana",
      "photoUrl": "https://lh3.googleusercontent.com/a-/AOh14GiMQL71je5gYAe__JMO5G3ZCfpatswl8ZaS0hraFw=s64",
      "userId": "10886394829232968298"
     },
     "user_tz": 300
    },
    "id": "FHykXChNelxA"
   },
   "outputs": [],
   "source": [
    "model.compile(loss='binary_crossentropy',\n",
    "              optimizer=optimizers.RMSprop(lr=2e-5),\n",
    "              metrics=['acc'])"
   ]
  },
  {
   "cell_type": "code",
   "execution_count": 21,
   "metadata": {
    "colab": {
     "base_uri": "https://localhost:8080/",
     "height": 673
    },
    "colab_type": "code",
    "executionInfo": {
     "elapsed": 368154,
     "status": "error",
     "timestamp": 1593408820983,
     "user": {
      "displayName": "chamila dharmawardhana",
      "photoUrl": "https://lh3.googleusercontent.com/a-/AOh14GiMQL71je5gYAe__JMO5G3ZCfpatswl8ZaS0hraFw=s64",
      "userId": "10886394829232968298"
     },
     "user_tz": 300
    },
    "id": "YTx5JTpFelxC",
    "outputId": "6c2e3f4d-8f87-45d7-810f-39f8efe2fbd7"
   },
   "outputs": [
    {
     "name": "stdout",
     "output_type": "stream",
     "text": [
      "Epoch 1/10\n",
      "80/80 [==============================] - 184s 2s/step - loss: 0.7439 - acc: 0.6303 - val_loss: 0.8593 - val_acc: 0.5000\n",
      "Epoch 2/10\n",
      "80/80 [==============================] - 182s 2s/step - loss: 0.6415 - acc: 0.6713 - val_loss: 0.7382 - val_acc: 0.5000\n",
      "Epoch 3/10\n",
      "80/80 [==============================] - 182s 2s/step - loss: 0.5572 - acc: 0.7294 - val_loss: 0.7171 - val_acc: 0.5000\n",
      "Epoch 4/10\n",
      "80/80 [==============================] - 182s 2s/step - loss: 0.5310 - acc: 0.7381 - val_loss: 0.6562 - val_acc: 0.6250\n",
      "Epoch 5/10\n",
      "80/80 [==============================] - 182s 2s/step - loss: 0.4919 - acc: 0.7613 - val_loss: 0.5992 - val_acc: 0.6250\n",
      "Epoch 6/10\n",
      "80/80 [==============================] - 182s 2s/step - loss: 0.4517 - acc: 0.7728 - val_loss: 0.5910 - val_acc: 0.6250\n",
      "Epoch 7/10\n",
      "80/80 [==============================] - 181s 2s/step - loss: 0.4144 - acc: 0.7981 - val_loss: 0.5535 - val_acc: 0.6875\n",
      "Epoch 8/10\n",
      "80/80 [==============================] - 182s 2s/step - loss: 0.4283 - acc: 0.7886 - val_loss: 0.5398 - val_acc: 0.7500\n",
      "Epoch 9/10\n",
      "80/80 [==============================] - 183s 2s/step - loss: 0.4057 - acc: 0.8125 - val_loss: 0.5661 - val_acc: 0.6875\n",
      "Epoch 10/10\n",
      "80/80 [==============================] - 183s 2s/step - loss: 0.3760 - acc: 0.8288 - val_loss: 0.5925 - val_acc: 0.7500\n"
     ]
    }
   ],
   "source": [
    "# This cell may take several minutes to run\n",
    "history = model.fit_generator(train_generator,\n",
    "                              steps_per_epoch=80,\n",
    "                              epochs=10,\n",
    "                              validation_data=val_generator,\n",
    "                              validation_steps=10)"
   ]
  },
  {
   "cell_type": "code",
   "execution_count": 22,
   "metadata": {
    "colab": {},
    "colab_type": "code",
    "id": "DLSUN_D8elxE"
   },
   "outputs": [
    {
     "data": {
      "image/png": "[encoded data removed]",
      "text/plain": [
       "<Figure size 432x288 with 1 Axes>"
      ]
     },
     "metadata": {
      "needs_background": "light"
     },
     "output_type": "display_data"
    },
    {
     "data": {
      "image/png": "[encoded data removed]",
      "text/plain": [
       "<Figure size 432x288 with 1 Axes>"
      ]
     },
     "metadata": {
      "needs_background": "light"
     },
     "output_type": "display_data"
    }
   ],
   "source": [
    "train_acc = history.history['acc']\n",
    "val_acc = history.history['val_acc']\n",
    "train_loss = history.history['loss']\n",
    "val_loss = history.history['val_loss']\n",
    "epch = range(1, len(train_acc) + 1)\n",
    "plt.plot(epch, train_acc, 'g.', label='Training Accuracy')\n",
    "plt.plot(epch, val_acc, 'g', label='Validation acc')\n",
    "plt.title('Accuracy')\n",
    "plt.legend()\n",
    "plt.figure()\n",
    "plt.plot(epch, train_loss, 'r.', label='Training loss')\n",
    "plt.plot(epch, val_loss, 'r', label='Validation loss')\n",
    "plt.title('Loss')\n",
    "plt.legend()\n",
    "plt.show()"
   ]
  },
  {
   "cell_type": "markdown",
   "metadata": {
    "colab_type": "text",
    "id": "kya3GKmyelxI"
   },
   "source": [
    "## Fine Tuning the model\n",
    "\n",
    "Now let's further fine tune the weights of the most abstract layers of the convolutional base. \n",
    "\n",
    "- first freeze the entire convolutional base\n",
    "- tune the fully connected classifier that sits on top of the pretrained convolutional base. \n",
    "\n",
    "Thus we can expect a relatively strong accuracy and you can fine tune the weights of the last few layers of the convolutional base. \n",
    "\n",
    "Unfreezing initial layers of the convolutional base will typically not produce substantial gains as these early layers learn simple representations such as colors and edges which are useful in all forms of image recognition, regardless of application.   \n",
    "\n",
    "Recall the model's architecture: "
   ]
  },
  {
   "cell_type": "code",
   "execution_count": 24,
   "metadata": {
    "colab": {},
    "colab_type": "code",
    "id": "ZRuWYHUbelxJ"
   },
   "outputs": [
    {
     "name": "stdout",
     "output_type": "stream",
     "text": [
      "_________________________________________________________________\n",
      "Layer (type)                 Output Shape              Param #   \n",
      "=================================================================\n",
      "vgg19 (Model)                (None, 4, 4, 512)         20024384  \n",
      "_________________________________________________________________\n",
      "flatten_1 (Flatten)          (None, 8192)              0         \n",
      "_________________________________________________________________\n",
      "dense_3 (Dense)              (None, 512)               4194816   \n",
      "_________________________________________________________________\n",
      "dropout_1 (Dropout)          (None, 512)               0         \n",
      "_________________________________________________________________\n",
      "dense_4 (Dense)              (None, 128)               65664     \n",
      "_________________________________________________________________\n",
      "dropout_2 (Dropout)          (None, 128)               0         \n",
      "_________________________________________________________________\n",
      "dense_5 (Dense)              (None, 64)                8256      \n",
      "_________________________________________________________________\n",
      "dropout_3 (Dropout)          (None, 64)                0         \n",
      "_________________________________________________________________\n",
      "dense_6 (Dense)              (None, 1)                 65        \n",
      "=================================================================\n",
      "Total params: 24,293,185\n",
      "Trainable params: 4,268,801\n",
      "Non-trainable params: 20,024,384\n",
      "_________________________________________________________________\n"
     ]
    }
   ],
   "source": [
    "model.summary()"
   ]
  },
  {
   "cell_type": "markdown",
   "metadata": {
    "colab_type": "text",
    "id": "cWTUOIYVelxM"
   },
   "source": [
    "And you can also further investigate the borrowed convolutional base:"
   ]
  },
  {
   "cell_type": "code",
   "execution_count": 25,
   "metadata": {
    "colab": {},
    "colab_type": "code",
    "id": "1_l-QjllelxN"
   },
   "outputs": [
    {
     "name": "stdout",
     "output_type": "stream",
     "text": [
      "_________________________________________________________________\n",
      "Layer (type)                 Output Shape              Param #   \n",
      "=================================================================\n",
      "input_1 (InputLayer)         (None, 150, 150, 3)       0         \n",
      "_________________________________________________________________\n",
      "block1_conv1 (Conv2D)        (None, 150, 150, 64)      1792      \n",
      "_________________________________________________________________\n",
      "block1_conv2 (Conv2D)        (None, 150, 150, 64)      36928     \n",
      "_________________________________________________________________\n",
      "block1_pool (MaxPooling2D)   (None, 75, 75, 64)        0         \n",
      "_________________________________________________________________\n",
      "block2_conv1 (Conv2D)        (None, 75, 75, 128)       73856     \n",
      "_________________________________________________________________\n",
      "block2_conv2 (Conv2D)        (None, 75, 75, 128)       147584    \n",
      "_________________________________________________________________\n",
      "block2_pool (MaxPooling2D)   (None, 37, 37, 128)       0         \n",
      "_________________________________________________________________\n",
      "block3_conv1 (Conv2D)        (None, 37, 37, 256)       295168    \n",
      "_________________________________________________________________\n",
      "block3_conv2 (Conv2D)        (None, 37, 37, 256)       590080    \n",
      "_________________________________________________________________\n",
      "block3_conv3 (Conv2D)        (None, 37, 37, 256)       590080    \n",
      "_________________________________________________________________\n",
      "block3_conv4 (Conv2D)        (None, 37, 37, 256)       590080    \n",
      "_________________________________________________________________\n",
      "block3_pool (MaxPooling2D)   (None, 18, 18, 256)       0         \n",
      "_________________________________________________________________\n",
      "block4_conv1 (Conv2D)        (None, 18, 18, 512)       1180160   \n",
      "_________________________________________________________________\n",
      "block4_conv2 (Conv2D)        (None, 18, 18, 512)       2359808   \n",
      "_________________________________________________________________\n",
      "block4_conv3 (Conv2D)        (None, 18, 18, 512)       2359808   \n",
      "_________________________________________________________________\n",
      "block4_conv4 (Conv2D)        (None, 18, 18, 512)       2359808   \n",
      "_________________________________________________________________\n",
      "block4_pool (MaxPooling2D)   (None, 9, 9, 512)         0         \n",
      "_________________________________________________________________\n",
      "block5_conv1 (Conv2D)        (None, 9, 9, 512)         2359808   \n",
      "_________________________________________________________________\n",
      "block5_conv2 (Conv2D)        (None, 9, 9, 512)         2359808   \n",
      "_________________________________________________________________\n",
      "block5_conv3 (Conv2D)        (None, 9, 9, 512)         2359808   \n",
      "_________________________________________________________________\n",
      "block5_conv4 (Conv2D)        (None, 9, 9, 512)         2359808   \n",
      "_________________________________________________________________\n",
      "block5_pool (MaxPooling2D)   (None, 4, 4, 512)         0         \n",
      "=================================================================\n",
      "Total params: 20,024,384\n",
      "Trainable params: 0\n",
      "Non-trainable params: 20,024,384\n",
      "_________________________________________________________________\n"
     ]
    }
   ],
   "source": [
    "cnn_base.summary()"
   ]
  },
  {
   "cell_type": "markdown",
   "metadata": {
    "colab_type": "text",
    "id": "kL-hz6KKelxP"
   },
   "source": [
    "## further Fine Tuning:\n",
    "\n",
    "- unfreeze a few of the deeper layers from this base and further fine tune them to our problem scenario. \n",
    "- This part is be particularly helpful where adapted models span new domain categories such as the Xray dataset that was never seen in the VGG19 model. \n",
    "- when the problem domain is substantially different, additional gains are more likely in adjusting these more abstract layers of the convolutional base. "
   ]
  },
  {
   "cell_type": "code",
   "execution_count": 26,
   "metadata": {
    "colab": {},
    "colab_type": "code",
    "id": "o7glpbxBelxP"
   },
   "outputs": [],
   "source": [
    "cnn_base.trainable = True"
   ]
  },
  {
   "cell_type": "markdown",
   "metadata": {
    "colab_type": "text",
    "id": "OecWJt8zelxS"
   },
   "source": [
    "Let's refreeze all layers up to a __block5_conv1__ layer. Here we are  unfreezing the final *block* of layers."
   ]
  },
  {
   "cell_type": "code",
   "execution_count": 27,
   "metadata": {
    "colab": {},
    "colab_type": "code",
    "id": "VFRztDVDelxS"
   },
   "outputs": [],
   "source": [
    "cnn_base.trainable = True\n",
    "set_trainable = False\n",
    "for layer in cnn_base.layers:\n",
    "    if layer.name == 'block5_conv1':\n",
    "        set_trainable = True\n",
    "    if set_trainable:\n",
    "        layer.trainable = True\n",
    "    else:\n",
    "        layer.trainable = False"
   ]
  },
  {
   "cell_type": "markdown",
   "metadata": {
    "colab_type": "text",
    "id": "C3QKW8rfelxV"
   },
   "source": [
    "Finally, we must recompile our model before fitting."
   ]
  },
  {
   "cell_type": "code",
   "execution_count": 28,
   "metadata": {
    "colab": {},
    "colab_type": "code",
    "id": "AjhNCxPoelxV"
   },
   "outputs": [],
   "source": [
    "model.compile(loss='binary_crossentropy', \n",
    "              optimizer=optimizers.RMSprop(lr=1e-4), \n",
    "              metrics=['accuracy'])"
   ]
  },
  {
   "cell_type": "markdown",
   "metadata": {
    "colab_type": "text",
    "id": "GGZHQ-wCelxX"
   },
   "source": [
    "Afterwards, we can then fit the model as usual."
   ]
  },
  {
   "cell_type": "code",
   "execution_count": 29,
   "metadata": {
    "colab": {},
    "colab_type": "code",
    "id": "uWhzQXnhelxX"
   },
   "outputs": [
    {
     "name": "stdout",
     "output_type": "stream",
     "text": [
      "Epoch 1/10\n",
      "120/120 [==============================] - 338s 3s/step - loss: 0.5030 - acc: 0.7389 - val_loss: 0.6658 - val_acc: 0.5000\n",
      "Epoch 2/10\n",
      "120/120 [==============================] - 335s 3s/step - loss: 0.3961 - acc: 0.8100 - val_loss: 0.5529 - val_acc: 0.8125\n",
      "Epoch 3/10\n",
      "120/120 [==============================] - 338s 3s/step - loss: 0.3727 - acc: 0.8479 - val_loss: 0.5151 - val_acc: 0.8750\n",
      "Epoch 4/10\n",
      "120/120 [==============================] - 335s 3s/step - loss: 0.3826 - acc: 0.8692 - val_loss: 0.6930 - val_acc: 0.6250\n",
      "Epoch 5/10\n",
      "120/120 [==============================] - 334s 3s/step - loss: 0.3083 - acc: 0.8784 - val_loss: 4.6680 - val_acc: 0.6250\n",
      "Epoch 6/10\n",
      "120/120 [==============================] - 335s 3s/step - loss: 0.3743 - acc: 0.8271 - val_loss: 4.0022 - val_acc: 0.6250\n",
      "Epoch 7/10\n",
      "120/120 [==============================] - 333s 3s/step - loss: 0.4125 - acc: 0.8208 - val_loss: 2.5850 - val_acc: 0.7500\n",
      "Epoch 8/10\n",
      "120/120 [==============================] - 334s 3s/step - loss: 0.4638 - acc: 0.8437 - val_loss: 5.5182 - val_acc: 0.6250\n",
      "Epoch 9/10\n",
      "120/120 [==============================] - 334s 3s/step - loss: 0.4566 - acc: 0.8033 - val_loss: 3.2080 - val_acc: 0.7500\n",
      "Epoch 10/10\n",
      "120/120 [==============================] - 334s 3s/step - loss: 0.4811 - acc: 0.7908 - val_loss: 3.7812 - val_acc: 0.6875\n"
     ]
    }
   ],
   "source": [
    "# several parameter sets were tested at this point. \n",
    "history = model.fit_generator(train_generator,\n",
    "                              steps_per_epoch=120,\n",
    "                              epochs=10,\n",
    "                              validation_data=val_generator,\n",
    "                              validation_steps=60)"
   ]
  },
  {
   "cell_type": "code",
   "execution_count": 30,
   "metadata": {
    "colab": {},
    "colab_type": "code",
    "id": "DJwz6qwjelxa"
   },
   "outputs": [
    {
     "data": {
      "text/plain": [
       "dict_keys(['val_loss', 'val_acc', 'loss', 'acc'])"
      ]
     },
     "execution_count": 30,
     "metadata": {},
     "output_type": "execute_result"
    }
   ],
   "source": [
    "history.history.keys()"
   ]
  },
  {
   "cell_type": "code",
   "execution_count": 31,
   "metadata": {
    "colab": {},
    "colab_type": "code",
    "id": "nH5L_TbJelxc"
   },
   "outputs": [
    {
     "data": {
      "image/png": "[encoded data removed]",
      "text/plain": [
       "<Figure size 432x288 with 1 Axes>"
      ]
     },
     "metadata": {
      "needs_background": "light"
     },
     "output_type": "display_data"
    },
    {
     "data": {
      "image/png": "[encoded data removed]",
      "text/plain": [
       "<Figure size 432x288 with 1 Axes>"
      ]
     },
     "metadata": {
      "needs_background": "light"
     },
     "output_type": "display_data"
    }
   ],
   "source": [
    "train_acc = history.history['acc']\n",
    "val_acc = history.history['val_acc']\n",
    "train_loss = history.history['loss']\n",
    "val_loss = history.history['val_loss']\n",
    "epch = range(1, len(train_acc) + 1)\n",
    "plt.plot(epch, train_acc, 'g.', label='Training Accuracy')\n",
    "plt.plot(epch, val_acc, 'g', label='Validation acc')\n",
    "plt.title('Accuracy')\n",
    "plt.legend()\n",
    "plt.figure()\n",
    "plt.plot(epch, train_loss, 'r.', label='Training loss')\n",
    "plt.plot(epch, val_loss, 'r', label='Validation loss')\n",
    "plt.title('Loss')\n",
    "plt.legend()\n",
    "plt.show()"
   ]
  },
  {
   "cell_type": "markdown",
   "metadata": {
    "colab_type": "text",
    "id": "PaUGBpgzelxd"
   },
   "source": [
    "## Final Evaluation\n",
    "\n"
   ]
  },
  {
   "cell_type": "code",
   "execution_count": null,
   "metadata": {
    "colab": {},
    "colab_type": "code",
    "id": "BkB07HF5elxe"
   },
   "outputs": [],
   "source": [
    "# \n",
    "\n",
    "# test_generator = test_datagen.flow_from_directory(test_dir,\n",
    "#                                                   target_size=(150, 150),\n",
    "#                                                   batch_size=20,\n",
    "#                                                   class_mode='binary')\n",
    "\n",
    "test_loss, test_acc = model.evaluate_generator(test_generator, steps=50)\n",
    "print('test acc:', test_acc)"
   ]
  },
  {
   "cell_type": "markdown",
   "metadata": {
    "colab_type": "text",
    "id": "Q18RL66Xelxg"
   },
   "source": [
    "\n",
    "## Summary\n",
    "\n",
    "Starting from th e VGG19 base model our study got the accuracy as 79% and validation accuracy as 68%. Thus, transfer learning has not yeilded better results for the Xray dataset"
   ]
  },
  {
   "cell_type": "code",
   "execution_count": null,
   "metadata": {},
   "outputs": [],
   "source": []
  }
 ],
 "metadata": {
  "accelerator": "GPU",
  "colab": {
   "name": "transferLearning.ipynb",
   "provenance": []
  },
  "kernelspec": {
   "display_name": "Python 3",
   "language": "python",
   "name": "python3"
  },
  "language_info": {
   "codemirror_mode": {
    "name": "ipython",
    "version": 3
   },
   "file_extension": ".py",
   "mimetype": "text/x-python",
   "name": "python",
   "nbconvert_exporter": "python",
   "pygments_lexer": "ipython3",
   "version": "3.6.9"
  },
  "toc": {
   "base_numbering": 1,
   "nav_menu": {},
   "number_sections": true,
   "sideBar": true,
   "skip_h1_title": false,
   "title_cell": "Table of Contents",
   "title_sidebar": "Contents",
   "toc_cell": false,
   "toc_position": {},
   "toc_section_display": true,
   "toc_window_display": false
  }
 },
 "nbformat": 4,
 "nbformat_minor": 1
}
